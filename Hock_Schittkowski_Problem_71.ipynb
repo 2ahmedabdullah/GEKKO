{
  "nbformat": 4,
  "nbformat_minor": 0,
  "metadata": {
    "colab": {
      "provenance": []
    },
    "kernelspec": {
      "name": "python3",
      "display_name": "Python 3"
    },
    "language_info": {
      "name": "python"
    }
  },
  "cells": [
    {
      "cell_type": "markdown",
      "source": [
        "# Hock - Schittkowski 1981 - Problem 71 \n",
        "\n",
        "One example of an optimization problem from a benchmark test set is the Hock Schittkowski problem #71.This is a popular test problem from the early 80s."
      ],
      "metadata": {
        "id": "0Dq7a5qABaiC"
      }
    },
    {
      "cell_type": "markdown",
      "source": [
        "![image.png](data:image/png;base64,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)"
      ],
      "metadata": {
        "id": "lZ82ut_dWnXi"
      }
    },
    {
      "cell_type": "code",
      "source": [
        "! pip install gekko"
      ],
      "metadata": {
        "colab": {
          "base_uri": "https://localhost:8080/"
        },
        "id": "1Wjrmqz_XQ3q",
        "outputId": "fe7b5d9d-9c72-4e42-d0ff-aebd6ac04dca"
      },
      "execution_count": 1,
      "outputs": [
        {
          "output_type": "stream",
          "name": "stdout",
          "text": [
            "Looking in indexes: https://pypi.org/simple, https://us-python.pkg.dev/colab-wheels/public/simple/\n",
            "Collecting gekko\n",
            "  Downloading gekko-1.0.6-py3-none-any.whl (12.2 MB)\n",
            "\u001b[2K     \u001b[90m━━━━━━━━━━━━━━━━━━━━━━━━━━━━━━━━━━━━━━━━\u001b[0m \u001b[32m12.2/12.2 MB\u001b[0m \u001b[31m44.7 MB/s\u001b[0m eta \u001b[36m0:00:00\u001b[0m\n",
            "\u001b[?25hRequirement already satisfied: numpy>=1.8 in /usr/local/lib/python3.8/dist-packages (from gekko) (1.21.6)\n",
            "Installing collected packages: gekko\n",
            "Successfully installed gekko-1.0.6\n"
          ]
        }
      ]
    },
    {
      "cell_type": "code",
      "execution_count": 2,
      "metadata": {
        "id": "01UzTS_xWdvi"
      },
      "outputs": [],
      "source": [
        "from gekko import GEKKO    \n",
        "import numpy as np"
      ]
    },
    {
      "cell_type": "code",
      "source": [
        "# initialize model\n",
        "m = GEKKO()"
      ],
      "metadata": {
        "id": "ewDInIAOWphn"
      },
      "execution_count": 3,
      "outputs": []
    },
    {
      "cell_type": "code",
      "source": [
        "# \n",
        "\n",
        "# initialize variables parameters\n",
        "\n",
        "# x1, x2, x3, x4 = [m.Var() for i in range(4)]\n",
        "x = m.Array(m.Var,4,value=1,lb=1,ub=5)\n",
        "x1, x2, x3, x4 = x[0], x[1], x[2], x[3]"
      ],
      "metadata": {
        "id": "PBQT7jTThIw4"
      },
      "execution_count": 8,
      "outputs": []
    },
    {
      "cell_type": "markdown",
      "source": [
        "![image.png](data:image/png;base64,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)"
      ],
      "metadata": {
        "id": "3qF3UGC6XmqK"
      }
    },
    {
      "cell_type": "code",
      "source": [
        "# initalize values\n",
        "x1.value = 1\n",
        "x2.value = 5\n",
        "x3.value = 5\n",
        "x4.value = 1\n",
        "\n",
        "# equations\n",
        "m.Equation(x1*x2*x3*x4>=25)\n",
        "m.Equation(x1**2+x2**2+x3**2+x4**2==40)\n",
        "\n",
        "#objective\n",
        "m.Obj(x1*x4*(x1+x2+x3)+x3)\n",
        "\n",
        "#set global options\n",
        "m.options.IMODE = 3\n"
      ],
      "metadata": {
        "id": "JR5F399VXP9k"
      },
      "execution_count": 9,
      "outputs": []
    },
    {
      "cell_type": "code",
      "source": [
        "# simulations\n",
        "\n",
        "m.solve()"
      ],
      "metadata": {
        "colab": {
          "base_uri": "https://localhost:8080/"
        },
        "id": "UaoexfjtZMrq",
        "outputId": "fa297591-4648-4060-c38e-f86e4f82a1d7"
      },
      "execution_count": 11,
      "outputs": [
        {
          "output_type": "stream",
          "name": "stdout",
          "text": [
            "apm 35.221.3.68_gk_model0 <br><pre> ----------------------------------------------------------------\n",
            " APMonitor, Version 1.0.1\n",
            " APMonitor Optimization Suite\n",
            " ----------------------------------------------------------------\n",
            " \n",
            " \n",
            " --------- APM Model Size ------------\n",
            " Each time step contains\n",
            "   Objects      :            0\n",
            "   Constants    :            0\n",
            "   Variables    :           17\n",
            "   Intermediates:            0\n",
            "   Connections  :            0\n",
            "   Equations    :            3\n",
            "   Residuals    :            3\n",
            " \n",
            " Number of state variables:             17\n",
            " Number of total equations: -            2\n",
            " Number of slack variables: -            1\n",
            " ---------------------------------------\n",
            " Degrees of freedom       :             14\n",
            " \n",
            " **********************************************\n",
            " Steady State Optimization with Interior Point Solver\n",
            " **********************************************\n",
            "  \n",
            "  \n",
            " Info: Exact Hessian\n",
            "\n",
            "******************************************************************************\n",
            "This program contains Ipopt, a library for large-scale nonlinear optimization.\n",
            " Ipopt is released as open source code under the Eclipse Public License (EPL).\n",
            "         For more information visit http://projects.coin-or.org/Ipopt\n",
            "******************************************************************************\n",
            "\n",
            "This is Ipopt version 3.12.10, running with linear solver ma57.\n",
            "\n",
            "Number of nonzeros in equality constraint Jacobian...:        9\n",
            "Number of nonzeros in inequality constraint Jacobian.:        0\n",
            "Number of nonzeros in Lagrangian Hessian.............:       10\n",
            "\n",
            "Total number of variables............................:       17\n",
            "                     variables with only lower bounds:        1\n",
            "                variables with lower and upper bounds:        8\n",
            "                     variables with only upper bounds:        0\n",
            "Total number of equality constraints.................:        2\n",
            "Total number of inequality constraints...............:        0\n",
            "        inequality constraints with only lower bounds:        0\n",
            "   inequality constraints with lower and upper bounds:        0\n",
            "        inequality constraints with only upper bounds:        0\n",
            "\n",
            "iter    objective    inf_pr   inf_du lg(mu)  ||d||  lg(rg) alpha_du alpha_pr  ls\n",
            "   0  1.6109693e+01 1.12e+01 2.50e+00   0.0 0.00e+00    -  0.00e+00 0.00e+00   0\n",
            "   1  1.6908801e+01 7.45e-01 7.64e-01  -0.8 1.46e-01  -4.0 1.00e+00 1.00e+00f  1\n",
            "   2  1.7117579e+01 1.30e-01 1.16e+00  -1.3 6.58e-01  -4.5 7.30e-01 1.00e+00h  1\n",
            "   3  1.6952977e+01 1.73e-01 7.43e-02  -2.3 1.07e-01  -5.0 1.00e+00 1.00e+00h  1\n",
            "   4  1.6997241e+01 3.17e-02 1.45e-02  -3.0 1.84e-01  -5.4 1.00e+00 1.00e+00h  1\n",
            "   5  1.7013961e+01 1.55e-04 1.82e-04  -4.8 1.48e-02  -5.9 1.00e+00 1.00e+00h  1\n",
            "   6  1.7014017e+01 6.47e-08 2.13e-07 -10.7 5.55e-05  -6.4 1.00e+00 1.00e+00h  1\n",
            "\n",
            "Number of Iterations....: 6\n",
            "\n",
            "                                   (scaled)                 (unscaled)\n",
            "Objective...............:   1.7014017246859456e+01    1.7014017246859456e+01\n",
            "Dual infeasibility......:   2.1255080222192468e-07    2.1255080222192468e-07\n",
            "Constraint violation....:   6.4706993030198259e-08    6.4706993030198259e-08\n",
            "Complementarity.........:   3.4175166060390928e-08    3.4175166060390928e-08\n",
            "Overall NLP error.......:   2.1255080222192468e-07    2.1255080222192468e-07\n",
            "\n",
            "\n",
            "Number of objective function evaluations             = 7\n",
            "Number of objective gradient evaluations             = 7\n",
            "Number of equality constraint evaluations            = 7\n",
            "Number of inequality constraint evaluations          = 0\n",
            "Number of equality constraint Jacobian evaluations   = 7\n",
            "Number of inequality constraint Jacobian evaluations = 0\n",
            "Number of Lagrangian Hessian evaluations             = 6\n",
            "Total CPU secs in IPOPT (w/o function evaluations)   =      0.002\n",
            "Total CPU secs in NLP function evaluations           =      0.000\n",
            "\n",
            "EXIT: Optimal Solution Found.\n",
            " \n",
            " The solution was found.\n",
            " \n",
            " The final value of the objective function is    17.0140172468595     \n",
            " \n",
            " ---------------------------------------------------\n",
            " Solver         :  IPOPT (v3.12)\n",
            " Solution time  :   9.699999998701969E-003 sec\n",
            " Objective      :    17.0140172468595     \n",
            " Successful solution\n",
            " ---------------------------------------------------\n",
            " \n"
          ]
        }
      ]
    },
    {
      "cell_type": "code",
      "source": [
        "print('x: ', x)\n",
        "print('Objective: ',m.options.OBJFCNVAL)"
      ],
      "metadata": {
        "colab": {
          "base_uri": "https://localhost:8080/"
        },
        "id": "YkiysGsrA4_p",
        "outputId": "2d46b4d4-c319-4ebb-aa7f-11050d5fef61"
      },
      "execution_count": 12,
      "outputs": [
        {
          "output_type": "stream",
          "name": "stdout",
          "text": [
            "x:  [[1.0000000004] [4.7429996202] [3.8211500119] [1.3794082837]]\n",
            "Objective:  17.014017247\n"
          ]
        }
      ]
    },
    {
      "cell_type": "code",
      "source": [],
      "metadata": {
        "id": "bFPbiwUaBD_3"
      },
      "execution_count": null,
      "outputs": []
    }
  ]
}