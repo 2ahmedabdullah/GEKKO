{
  "nbformat": 4,
  "nbformat_minor": 0,
  "metadata": {
    "colab": {
      "provenance": []
    },
    "kernelspec": {
      "name": "python3",
      "display_name": "Python 3"
    },
    "language_info": {
      "name": "python"
    }
  },
  "cells": [
    {
      "cell_type": "markdown",
      "source": [
        "# Energy price Non-linear regression\n",
        "Solve for oil sales price (outcome) using 3 predictors of:  \n",
        "1) WTI Oil Price,   \n",
        "2) Henry Hub Price, and   \n",
        "3) MB Propane Spot Price"
      ],
      "metadata": {
        "id": "6KTOABZTNN3g"
      }
    },
    {
      "cell_type": "code",
      "source": [
        "! pip install gekko"
      ],
      "metadata": {
        "colab": {
          "base_uri": "https://localhost:8080/"
        },
        "id": "eqVLh7YeNXyw",
        "outputId": "3a51fd6f-30ad-4abd-db38-c5e3c0a84877"
      },
      "execution_count": 1,
      "outputs": [
        {
          "output_type": "stream",
          "name": "stdout",
          "text": [
            "Looking in indexes: https://pypi.org/simple, https://us-python.pkg.dev/colab-wheels/public/simple/\n",
            "Collecting gekko\n",
            "  Downloading gekko-1.0.6-py3-none-any.whl (12.2 MB)\n",
            "\u001b[2K     \u001b[90m━━━━━━━━━━━━━━━━━━━━━━━━━━━━━━━━━━━━━━━━\u001b[0m \u001b[32m12.2/12.2 MB\u001b[0m \u001b[31m53.4 MB/s\u001b[0m eta \u001b[36m0:00:00\u001b[0m\n",
            "\u001b[?25hRequirement already satisfied: numpy>=1.8 in /usr/local/lib/python3.8/dist-packages (from gekko) (1.21.6)\n",
            "Installing collected packages: gekko\n",
            "Successfully installed gekko-1.0.6\n"
          ]
        }
      ]
    },
    {
      "cell_type": "code",
      "execution_count": 2,
      "metadata": {
        "id": "t2t2DslrNAYt"
      },
      "outputs": [],
      "source": [
        "import numpy as np\n",
        "from gekko import GEKKO\n",
        "import pandas as pd\n",
        "import matplotlib.pyplot as plt"
      ]
    },
    {
      "cell_type": "code",
      "source": [
        "# data file from URL address\n",
        "data = 'https://apmonitor.com/me575/uploads/Main/oil_data.txt'\n",
        "df = pd.read_csv(data)\n",
        "df.head()"
      ],
      "metadata": {
        "colab": {
          "base_uri": "https://localhost:8080/",
          "height": 206
        },
        "id": "5HDF4r4_NVB1",
        "outputId": "4c882000-89eb-4382-cdfc-f3a520b6a85d"
      },
      "execution_count": 3,
      "outputs": [
        {
          "output_type": "execute_result",
          "data": {
            "text/plain": [
              "   YEAR  MONTH  WTI_PRICE  HH_PRICE  NGL_PRICE  BEST_PRICE\n",
              "0  2000      1      27.24      2.40      0.555     26.6020\n",
              "1  2000      2      29.21      2.66      0.596     28.8013\n",
              "2  2000      3      29.92      2.78      0.512     29.0381\n",
              "3  2000      4      25.78      3.04      0.469     25.0476\n",
              "4  2000      5      28.78      3.59      0.512     28.3888"
            ],
            "text/html": [
              "\n",
              "  <div id=\"df-c78aa4fb-6b61-4e6e-8444-1a90366caf61\">\n",
              "    <div class=\"colab-df-container\">\n",
              "      <div>\n",
              "<style scoped>\n",
              "    .dataframe tbody tr th:only-of-type {\n",
              "        vertical-align: middle;\n",
              "    }\n",
              "\n",
              "    .dataframe tbody tr th {\n",
              "        vertical-align: top;\n",
              "    }\n",
              "\n",
              "    .dataframe thead th {\n",
              "        text-align: right;\n",
              "    }\n",
              "</style>\n",
              "<table border=\"1\" class=\"dataframe\">\n",
              "  <thead>\n",
              "    <tr style=\"text-align: right;\">\n",
              "      <th></th>\n",
              "      <th>YEAR</th>\n",
              "      <th>MONTH</th>\n",
              "      <th>WTI_PRICE</th>\n",
              "      <th>HH_PRICE</th>\n",
              "      <th>NGL_PRICE</th>\n",
              "      <th>BEST_PRICE</th>\n",
              "    </tr>\n",
              "  </thead>\n",
              "  <tbody>\n",
              "    <tr>\n",
              "      <th>0</th>\n",
              "      <td>2000</td>\n",
              "      <td>1</td>\n",
              "      <td>27.24</td>\n",
              "      <td>2.40</td>\n",
              "      <td>0.555</td>\n",
              "      <td>26.6020</td>\n",
              "    </tr>\n",
              "    <tr>\n",
              "      <th>1</th>\n",
              "      <td>2000</td>\n",
              "      <td>2</td>\n",
              "      <td>29.21</td>\n",
              "      <td>2.66</td>\n",
              "      <td>0.596</td>\n",
              "      <td>28.8013</td>\n",
              "    </tr>\n",
              "    <tr>\n",
              "      <th>2</th>\n",
              "      <td>2000</td>\n",
              "      <td>3</td>\n",
              "      <td>29.92</td>\n",
              "      <td>2.78</td>\n",
              "      <td>0.512</td>\n",
              "      <td>29.0381</td>\n",
              "    </tr>\n",
              "    <tr>\n",
              "      <th>3</th>\n",
              "      <td>2000</td>\n",
              "      <td>4</td>\n",
              "      <td>25.78</td>\n",
              "      <td>3.04</td>\n",
              "      <td>0.469</td>\n",
              "      <td>25.0476</td>\n",
              "    </tr>\n",
              "    <tr>\n",
              "      <th>4</th>\n",
              "      <td>2000</td>\n",
              "      <td>5</td>\n",
              "      <td>28.78</td>\n",
              "      <td>3.59</td>\n",
              "      <td>0.512</td>\n",
              "      <td>28.3888</td>\n",
              "    </tr>\n",
              "  </tbody>\n",
              "</table>\n",
              "</div>\n",
              "      <button class=\"colab-df-convert\" onclick=\"convertToInteractive('df-c78aa4fb-6b61-4e6e-8444-1a90366caf61')\"\n",
              "              title=\"Convert this dataframe to an interactive table.\"\n",
              "              style=\"display:none;\">\n",
              "        \n",
              "  <svg xmlns=\"http://www.w3.org/2000/svg\" height=\"24px\"viewBox=\"0 0 24 24\"\n",
              "       width=\"24px\">\n",
              "    <path d=\"M0 0h24v24H0V0z\" fill=\"none\"/>\n",
              "    <path d=\"M18.56 5.44l.94 2.06.94-2.06 2.06-.94-2.06-.94-.94-2.06-.94 2.06-2.06.94zm-11 1L8.5 8.5l.94-2.06 2.06-.94-2.06-.94L8.5 2.5l-.94 2.06-2.06.94zm10 10l.94 2.06.94-2.06 2.06-.94-2.06-.94-.94-2.06-.94 2.06-2.06.94z\"/><path d=\"M17.41 7.96l-1.37-1.37c-.4-.4-.92-.59-1.43-.59-.52 0-1.04.2-1.43.59L10.3 9.45l-7.72 7.72c-.78.78-.78 2.05 0 2.83L4 21.41c.39.39.9.59 1.41.59.51 0 1.02-.2 1.41-.59l7.78-7.78 2.81-2.81c.8-.78.8-2.07 0-2.86zM5.41 20L4 18.59l7.72-7.72 1.47 1.35L5.41 20z\"/>\n",
              "  </svg>\n",
              "      </button>\n",
              "      \n",
              "  <style>\n",
              "    .colab-df-container {\n",
              "      display:flex;\n",
              "      flex-wrap:wrap;\n",
              "      gap: 12px;\n",
              "    }\n",
              "\n",
              "    .colab-df-convert {\n",
              "      background-color: #E8F0FE;\n",
              "      border: none;\n",
              "      border-radius: 50%;\n",
              "      cursor: pointer;\n",
              "      display: none;\n",
              "      fill: #1967D2;\n",
              "      height: 32px;\n",
              "      padding: 0 0 0 0;\n",
              "      width: 32px;\n",
              "    }\n",
              "\n",
              "    .colab-df-convert:hover {\n",
              "      background-color: #E2EBFA;\n",
              "      box-shadow: 0px 1px 2px rgba(60, 64, 67, 0.3), 0px 1px 3px 1px rgba(60, 64, 67, 0.15);\n",
              "      fill: #174EA6;\n",
              "    }\n",
              "\n",
              "    [theme=dark] .colab-df-convert {\n",
              "      background-color: #3B4455;\n",
              "      fill: #D2E3FC;\n",
              "    }\n",
              "\n",
              "    [theme=dark] .colab-df-convert:hover {\n",
              "      background-color: #434B5C;\n",
              "      box-shadow: 0px 1px 3px 1px rgba(0, 0, 0, 0.15);\n",
              "      filter: drop-shadow(0px 1px 2px rgba(0, 0, 0, 0.3));\n",
              "      fill: #FFFFFF;\n",
              "    }\n",
              "  </style>\n",
              "\n",
              "      <script>\n",
              "        const buttonEl =\n",
              "          document.querySelector('#df-c78aa4fb-6b61-4e6e-8444-1a90366caf61 button.colab-df-convert');\n",
              "        buttonEl.style.display =\n",
              "          google.colab.kernel.accessAllowed ? 'block' : 'none';\n",
              "\n",
              "        async function convertToInteractive(key) {\n",
              "          const element = document.querySelector('#df-c78aa4fb-6b61-4e6e-8444-1a90366caf61');\n",
              "          const dataTable =\n",
              "            await google.colab.kernel.invokeFunction('convertToInteractive',\n",
              "                                                     [key], {});\n",
              "          if (!dataTable) return;\n",
              "\n",
              "          const docLinkHtml = 'Like what you see? Visit the ' +\n",
              "            '<a target=\"_blank\" href=https://colab.research.google.com/notebooks/data_table.ipynb>data table notebook</a>'\n",
              "            + ' to learn more about interactive tables.';\n",
              "          element.innerHTML = '';\n",
              "          dataTable['output_type'] = 'display_data';\n",
              "          await google.colab.output.renderOutput(dataTable, element);\n",
              "          const docLink = document.createElement('div');\n",
              "          docLink.innerHTML = docLinkHtml;\n",
              "          element.appendChild(docLink);\n",
              "        }\n",
              "      </script>\n",
              "    </div>\n",
              "  </div>\n",
              "  "
            ]
          },
          "metadata": {},
          "execution_count": 3
        }
      ]
    },
    {
      "cell_type": "code",
      "source": [
        "xm1 = np.array(df[\"WTI_PRICE\"]) # WTI Oil Price\n",
        "xm2 = np.array(df[\"HH_PRICE\"])  # Henry Hub Gas Price\n",
        "xm3 = np.array(df[\"NGL_PRICE\"]) # MB Propane Spot Price\n",
        "ym = np.array(df[\"BEST_PRICE\"]) # oil sales price"
      ],
      "metadata": {
        "id": "EPgKtcteNxgX"
      },
      "execution_count": 4,
      "outputs": []
    },
    {
      "cell_type": "markdown",
      "source": [
        "# Fitting Equation\n",
        "\n",
        "\n",
        "![gekko1.png](data:image/png;base64,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)\n",
        "\n",
        "\n",
        "\n",
        "\n",
        "# Minimization Equation (Sum of Squared Errors)\n",
        "\n",
        "\n",
        "![image.png](data:image/png;base64,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)"
      ],
      "metadata": {
        "id": "4QoOQ5M1OGGy"
      }
    },
    {
      "cell_type": "code",
      "source": [
        "# GEKKO model\n",
        "m = GEKKO()\n",
        "\n",
        "a = m.FV(lb=-100.0,ub=100.0)\n",
        "b = m.FV(lb=-100.0,ub=100.0)\n",
        "c = m.FV(lb=-100.0,ub=100.0)\n",
        "d = m.FV(lb=-100.0,ub=100.0)\n",
        "\n",
        "x1 = m.Param(value=xm1) # WTI Oil Price\n",
        "x2 = m.Param(value=xm2) # Henry Hub Gas Price\n",
        "x3 = m.Param(value=xm3) # MB Propane Spot Price\n",
        "\n",
        "z = m.Param(value=ym)   # oil sales price\n",
        "\n",
        "y = m.Var() # Output of Fitting Equation\n",
        "m.Equation(y==a*(x1**b)*(x2**c)*(x3**d)) # Fitting Equation\n",
        "\n",
        "\n",
        "m.Minimize(((y-z)/z)**2)"
      ],
      "metadata": {
        "id": "6MuWHSZcN6Hs"
      },
      "execution_count": 6,
      "outputs": []
    },
    {
      "cell_type": "code",
      "source": [
        "# Set Global Options\n",
        "\n",
        "a.STATUS = 1\n",
        "b.STATUS = 1\n",
        "c.STATUS = 1\n",
        "d.STATUS = 1\n",
        "m.options.IMODE = 2\n",
        "m.options.SOLVER = 1"
      ],
      "metadata": {
        "id": "tGtzkxnSPmJs"
      },
      "execution_count": 7,
      "outputs": []
    },
    {
      "cell_type": "code",
      "source": [
        "# Solve\n",
        "m.solve()\n",
        "\n",
        "print('a: ', a.value[0])\n",
        "print('b: ', b.value[0])\n",
        "print('c: ', c.value[0])\n",
        "print('d: ', d.value[0])"
      ],
      "metadata": {
        "colab": {
          "base_uri": "https://localhost:8080/"
        },
        "id": "wEUIRksFPv0b",
        "outputId": "4c2671c0-bc82-445b-8e54-11418597dbd7"
      },
      "execution_count": 8,
      "outputs": [
        {
          "output_type": "stream",
          "name": "stdout",
          "text": [
            "apm 34.69.81.198_gk_model0 <br><pre> ----------------------------------------------------------------\n",
            " APMonitor, Version 1.0.1\n",
            " APMonitor Optimization Suite\n",
            " ----------------------------------------------------------------\n",
            " \n",
            " \n",
            " --------- APM Model Size ------------\n",
            " Each time step contains\n",
            "   Objects      :            0\n",
            "   Constants    :            0\n",
            "   Variables    :            9\n",
            "   Intermediates:            0\n",
            "   Connections  :            0\n",
            "   Equations    :            2\n",
            "   Residuals    :            2\n",
            " \n",
            " Number of state variables:            157\n",
            " Number of total equations: -          153\n",
            " Number of slack variables: -            0\n",
            " ---------------------------------------\n",
            " Degrees of freedom       :              4\n",
            " \n",
            " ----------------------------------------------\n",
            " Model Parameter Estimation with APOPT Solver\n",
            " ----------------------------------------------\n",
            " \n",
            " Iter    Objective  Convergence\n",
            "    0  1.52716E+02  0.00000E+00\n",
            "    1  9.28039E+01  0.00000E+00\n",
            "    2  4.64819E+01  0.00000E+00\n",
            "    3  7.73054E+01  1.25553E-01\n",
            "    4  1.03957E+03  1.39206E-01\n",
            "    5  5.05245E+00  1.77621E-01\n",
            "    6  3.48980E+00  1.57436E-02\n",
            "    7  1.98451E+00  1.08442E-03\n",
            "    8  1.34752E+00  3.71325E-03\n",
            "    9  1.05227E+00  3.15671E-03\n",
            " \n",
            " Iter    Objective  Convergence\n",
            "   10  2.46747E+01  1.51355E-03\n",
            "   11  1.72754E+01  2.94913E-01\n",
            "   12  1.17216E+00  8.70295E-02\n",
            "   13  1.74102E+00  1.59021E-02\n",
            "   14  3.04121E+00  1.02451E-02\n",
            "   15  1.12546E-01  1.33690E-02\n",
            "   16  2.37889E+00  2.33258E-04\n",
            "   17  4.42489E-01  7.91477E-03\n",
            "   18  8.58101E-02  1.36985E-03\n",
            "   19  7.89862E-02  2.68055E-05\n",
            " \n",
            " Iter    Objective  Convergence\n",
            "   20  7.89957E-02  8.12989E-07\n",
            "   21  7.87571E-02  8.84631E-07\n",
            "   22  7.87570E-02  5.37998E-10\n",
            "   23  7.87570E-02  5.37998E-10\n",
            " Successful solution\n",
            " \n",
            " ---------------------------------------------------\n",
            " Solver         :  APOPT (v1.0)\n",
            " Solution time  :   0.117600000000039      sec\n",
            " Objective      :   7.875699556684991E-002\n",
            " Successful solution\n",
            " ---------------------------------------------------\n",
            " \n",
            "a:  1.0439650141\n",
            "b:  0.97701000027\n",
            "c:  0.02361794484\n",
            "d:  0.022456749877\n"
          ]
        }
      ]
    },
    {
      "cell_type": "code",
      "source": [
        "cFormula = \"Formula is : \" + \"\\n\" + r\"$A * WTI^B * HH^C * PROPANE^D$\"\n",
        "\n",
        "from scipy import stats\n",
        "slope, intercept, r_value, p_value, std_err = stats.linregress(ym,y)\n",
        "\n",
        "r2 = r_value**2\n",
        "cR2 = \"R^2 correlation = \" + str(r_value**2)\n",
        "print(cR2)"
      ],
      "metadata": {
        "colab": {
          "base_uri": "https://localhost:8080/"
        },
        "id": "oSm2z7kKPzXt",
        "outputId": "eaabd233-8faf-4e6c-def6-0d080db0b412"
      },
      "execution_count": 9,
      "outputs": [
        {
          "output_type": "stream",
          "name": "stdout",
          "text": [
            "R^2 correlation = 0.9964347959053697\n"
          ]
        }
      ]
    },
    {
      "cell_type": "code",
      "source": [
        "# plot solution\n",
        "plt.figure(1)\n",
        "plt.figure(figsize = (8, 6))\n",
        "plt.plot([20,140],[20,140],'k-',label='Measured')\n",
        "plt.plot(ym,y,'ro',label='Predicted')\n",
        "plt.xlabel('Measured Outcome (YM)')\n",
        "plt.ylabel('Predicted Outcome (Y)')\n",
        "plt.legend(loc='best')\n",
        "plt.text(25,115,'a =' + str(a.value[0]))\n",
        "plt.text(25,110,'b =' + str(b.value[0]))\n",
        "plt.text(25,105,'c =' + str(c.value[0]))\n",
        "plt.text(25,100,'d =' + str(d.value[0]))\n",
        "plt.text(25,90,r'$R^2$ =' + str(r_value**2))\n",
        "plt.text(80,40,cFormula)\n",
        "plt.grid(True)\n",
        "plt.show()"
      ],
      "metadata": {
        "colab": {
          "base_uri": "https://localhost:8080/",
          "height": 406
        },
        "id": "1bf1YwFeQCAF",
        "outputId": "1e3721b0-24f8-4711-d0d1-14f1dd34590a"
      },
      "execution_count": 13,
      "outputs": [
        {
          "output_type": "display_data",
          "data": {
            "text/plain": [
              "<Figure size 432x288 with 0 Axes>"
            ]
          },
          "metadata": {}
        },
        {
          "output_type": "display_data",
          "data": {
            "text/plain": [
              "<Figure size 576x432 with 1 Axes>"
            ],
            "image/png": "[encoded data removed]"
          },
          "metadata": {
            "needs_background": "light"
          }
        }
      ]
    },
    {
      "cell_type": "code",
      "source": [
        "m.options.IMODE = 3\n",
        "\n",
        "# Solve\n",
        "m.solve()\n",
        "\n",
        "print('a: ', a.value[0])\n",
        "print('b: ', b.value[0])\n",
        "print('c: ', c.value[0])\n",
        "print('d: ', d.value[0])"
      ],
      "metadata": {
        "colab": {
          "base_uri": "https://localhost:8080/"
        },
        "id": "n5vm-3mYQufz",
        "outputId": "f56b7b00-9c08-4aa8-9419-89d0089b7c48"
      },
      "execution_count": 15,
      "outputs": [
        {
          "output_type": "stream",
          "name": "stdout",
          "text": [
            "apm 34.69.81.198_gk_model0 <br><pre> ----------------------------------------------------------------\n",
            " APMonitor, Version 1.0.1\n",
            " APMonitor Optimization Suite\n",
            " ----------------------------------------------------------------\n",
            " \n",
            " \n",
            " --------- APM Model Size ------------\n",
            " Each time step contains\n",
            "   Objects      :            0\n",
            "   Constants    :            0\n",
            "   Variables    :            9\n",
            "   Intermediates:            0\n",
            "   Connections  :            0\n",
            "   Equations    :            2\n",
            "   Residuals    :            2\n",
            " \n",
            " Number of state variables:              5\n",
            " Number of total equations: -            1\n",
            " Number of slack variables: -            0\n",
            " ---------------------------------------\n",
            " Degrees of freedom       :              4\n",
            " \n",
            " ----------------------------------------------\n",
            " Steady State Optimization with APOPT Solver\n",
            " ----------------------------------------------\n",
            " \n",
            " Iter    Objective  Convergence\n",
            "    0  1.03771E+00  3.99286E-01\n",
            "    1  7.40116E-03  2.83521E-01\n",
            "    2  2.63903E-02  1.28195E-01\n",
            "    3  1.09620E-02  2.18204E-02\n",
            "    4  3.65878E-07  5.73663E-04\n",
            "    5  2.34557E-09  2.02833E-03\n",
            "    6  1.29810E-12  4.53524E-06\n",
            "    7  3.56111E-25  7.46819E-09\n",
            "    8  3.56111E-25  7.46819E-09\n",
            " Successful solution\n",
            " \n",
            " ---------------------------------------------------\n",
            " Solver         :  APOPT (v1.0)\n",
            " Solution time  :   1.280000000042492E-002 sec\n",
            " Objective      :   8.398685246265209E-028\n",
            " Successful solution\n",
            " ---------------------------------------------------\n",
            " \n",
            "a:  1.0404989909\n",
            "b:  0.97841593606\n",
            "c:  0.023990401635\n",
            "d:  0.022206258027\n"
          ]
        }
      ]
    },
    {
      "cell_type": "code",
      "source": [],
      "metadata": {
        "id": "rxrrKta4RqPx"
      },
      "execution_count": null,
      "outputs": []
    }
  ]
}